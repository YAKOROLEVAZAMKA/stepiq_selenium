{
 "cells": [
  {
   "cell_type": "code",
   "execution_count": 11,
   "metadata": {},
   "outputs": [],
   "source": [
    "from selenium import webdriver"
   ]
  },
  {
   "cell_type": "code",
   "execution_count": 7,
   "metadata": {},
   "outputs": [],
   "source": [
    "link = \"http://selenium1py.pythonanywhere.com/\""
   ]
  },
  {
   "cell_type": "code",
   "execution_count": 11,
   "metadata": {},
   "outputs": [],
   "source": [
    "class TestMainPage1():\n",
    "\n",
    "    @classmethod\n",
    "    def setup_class(self):\n",
    "        print(\"\\nstart browser for test suite..\")\n",
    "        self.browser = webdriver.Chrome('C:/chromedriver/chromedriver.exe')\n",
    "\n",
    "    @classmethod\n",
    "    def teardown_class(self):\n",
    "        print(\"quit browser for test suite..\")\n",
    "        self.browser.quit()\n",
    "\n",
    "    def test_guest_should_see_login_link(self):\n",
    "        self.browser.get(link)\n",
    "        self.browser.find_element_by_css_selector(\"#login_link\")\n",
    "\n",
    "    def test_guest_should_see_basket_link_on_the_main_page(self):\n",
    "        self.browser.get(link)\n",
    "        self.browser.find_element_by_css_selector(\".basket-mini .btn-group > a\")\n",
    "\n",
    "\n",
    "class TestMainPage2():\n",
    "\n",
    "    def setup_method(self):\n",
    "        print(\"start browser for test..\")\n",
    "        self.browser = webdriver.Chrome('C:/chromedriver/chromedriver.exe')\n",
    "\n",
    "    def teardown_method(self):\n",
    "        print(\"quit browser for test..\")\n",
    "        self.browser.quit()\n",
    "\n",
    "    def test_guest_should_see_login_link(self):\n",
    "        self.browser.get(link)\n",
    "        self.browser.find_element_by_css_selector(\"#login_link\")\n",
    "\n",
    "    def test_guest_should_see_basket_link_on_the_main_page(self):\n",
    "        self.browser.get(link)\n",
    "        self.browser.find_element_by_css_selector(\".basket-mini .btn-group > a\")"
   ]
  },
  {
   "cell_type": "code",
   "execution_count": 2,
   "metadata": {},
   "outputs": [],
   "source": [
    "import ipytest.magics\n",
    "import ipytest"
   ]
  },
  {
   "cell_type": "code",
   "execution_count": 3,
   "metadata": {},
   "outputs": [],
   "source": [
    "import pytest"
   ]
  },
  {
   "cell_type": "code",
   "execution_count": 4,
   "metadata": {},
   "outputs": [],
   "source": [
    "ipytest.config.rewrite_asserts = True"
   ]
  },
  {
   "cell_type": "code",
   "execution_count": 5,
   "metadata": {},
   "outputs": [],
   "source": [
    "__file__ = '3-4_Selenium.ipynb'"
   ]
  },
  {
   "cell_type": "code",
   "execution_count": 12,
   "metadata": {},
   "outputs": [
    {
     "name": "stdout",
     "output_type": "stream",
     "text": [
      "....                                                                     [100%]\n",
      "============================== warnings summary ===============================\n",
      "C:\\ProgramData\\Anaconda3\\lib\\site-packages\\_pytest\\config\\__init__.py:751\n",
      "  C:\\ProgramData\\Anaconda3\\lib\\site-packages\\_pytest\\config\\__init__.py:751: PytestWarning: Module already imported so cannot be rewritten: pytest_remotedata\n",
      "    self._mark_plugins_for_rewrite(hook)\n",
      "\n",
      "C:\\ProgramData\\Anaconda3\\lib\\site-packages\\_pytest\\config\\__init__.py:751\n",
      "  C:\\ProgramData\\Anaconda3\\lib\\site-packages\\_pytest\\config\\__init__.py:751: PytestWarning: Module already imported so cannot be rewritten: pytest_openfiles\n",
      "    self._mark_plugins_for_rewrite(hook)\n",
      "\n",
      "C:\\ProgramData\\Anaconda3\\lib\\site-packages\\_pytest\\config\\__init__.py:751\n",
      "  C:\\ProgramData\\Anaconda3\\lib\\site-packages\\_pytest\\config\\__init__.py:751: PytestWarning: Module already imported so cannot be rewritten: pytest_doctestplus\n",
      "    self._mark_plugins_for_rewrite(hook)\n",
      "\n",
      "C:\\ProgramData\\Anaconda3\\lib\\site-packages\\_pytest\\config\\__init__.py:751\n",
      "  C:\\ProgramData\\Anaconda3\\lib\\site-packages\\_pytest\\config\\__init__.py:751: PytestWarning: Module already imported so cannot be rewritten: pytest_arraydiff\n",
      "    self._mark_plugins_for_rewrite(hook)\n",
      "\n",
      "-- Docs: https://docs.pytest.org/en/latest/warnings.html\n"
     ]
    }
   ],
   "source": [
    "ipytest.run('-qq')"
   ]
  },
  {
   "cell_type": "code",
   "execution_count": null,
   "metadata": {},
   "outputs": [],
   "source": []
  },
  {
   "cell_type": "code",
   "execution_count": null,
   "metadata": {},
   "outputs": [],
   "source": []
  },
  {
   "cell_type": "code",
   "execution_count": 19,
   "metadata": {},
   "outputs": [],
   "source": [
    "__file__ = '3-4_Selenium.ipynb'"
   ]
  },
  {
   "cell_type": "code",
   "execution_count": 16,
   "metadata": {},
   "outputs": [
    {
     "name": "stdout",
     "output_type": "stream",
     "text": [
      "......\n",
      "============================== warnings summary ===============================\n",
      "C:\\ProgramData\\Anaconda3\\lib\\site-packages\\_pytest\\config\\__init__.py:751\n",
      "  C:\\ProgramData\\Anaconda3\\lib\\site-packages\\_pytest\\config\\__init__.py:751: PytestWarning: Module already imported so cannot be rewritten: pytest_remotedata\n",
      "    self._mark_plugins_for_rewrite(hook)\n",
      "\n",
      "C:\\ProgramData\\Anaconda3\\lib\\site-packages\\_pytest\\config\\__init__.py:751\n",
      "  C:\\ProgramData\\Anaconda3\\lib\\site-packages\\_pytest\\config\\__init__.py:751: PytestWarning: Module already imported so cannot be rewritten: pytest_openfiles\n",
      "    self._mark_plugins_for_rewrite(hook)\n",
      "\n",
      "C:\\ProgramData\\Anaconda3\\lib\\site-packages\\_pytest\\config\\__init__.py:751\n",
      "  C:\\ProgramData\\Anaconda3\\lib\\site-packages\\_pytest\\config\\__init__.py:751: PytestWarning: Module already imported so cannot be rewritten: pytest_doctestplus\n",
      "    self._mark_plugins_for_rewrite(hook)\n",
      "\n",
      "C:\\ProgramData\\Anaconda3\\lib\\site-packages\\_pytest\\config\\__init__.py:751\n",
      "  C:\\ProgramData\\Anaconda3\\lib\\site-packages\\_pytest\\config\\__init__.py:751: PytestWarning: Module already imported so cannot be rewritten: pytest_arraydiff\n",
      "    self._mark_plugins_for_rewrite(hook)\n",
      "\n",
      "-- Docs: https://docs.pytest.org/en/latest/warnings.html\n"
     ]
    }
   ],
   "source": [
    "ipytest.run('-qq')"
   ]
  },
  {
   "cell_type": "code",
   "execution_count": null,
   "metadata": {},
   "outputs": [],
   "source": []
  },
  {
   "cell_type": "code",
   "execution_count": 12,
   "metadata": {},
   "outputs": [],
   "source": [
    "link = \"http://selenium1py.pythonanywhere.com/\"\n",
    "\n",
    "\n",
    "@pytest.fixture\n",
    "def browser():\n",
    "    print(\"\\nstart browser for test..\")\n",
    "    browser = webdriver.Chrome('C:/chromedriver/chromedriver.exe')\n",
    "    yield browser\n",
    "    # этот код выполнится после завершения теста\n",
    "    print(\"\\nquit browser..\")\n",
    "    browser.quit()\n",
    "\n",
    "\n",
    "class TestMainPage1():\n",
    "    # вызываем фикстуру в тесте, передав ее как параметр\n",
    "    def test_guest_should_see_login_link(self, browser):\n",
    "        browser.get(link)\n",
    "        browser.find_element_by_css_selector(\"#login_link\")\n",
    "\n",
    "    def test_guest_should_see_basket_link_on_the_main_page(self, browser):\n",
    "        browser.get(link)\n",
    "        browser.find_element_by_css_selector(\".basket-mini .btn-group > a\")"
   ]
  },
  {
   "cell_type": "code",
   "execution_count": 13,
   "metadata": {},
   "outputs": [
    {
     "name": "stdout",
     "output_type": "stream",
     "text": [
      "..                                                                       [100%]\n",
      "============================== warnings summary ===============================\n",
      "C:\\ProgramData\\Anaconda3\\lib\\site-packages\\_pytest\\config\\__init__.py:751\n",
      "  C:\\ProgramData\\Anaconda3\\lib\\site-packages\\_pytest\\config\\__init__.py:751: PytestWarning: Module already imported so cannot be rewritten: pytest_remotedata\n",
      "    self._mark_plugins_for_rewrite(hook)\n",
      "\n",
      "C:\\ProgramData\\Anaconda3\\lib\\site-packages\\_pytest\\config\\__init__.py:751\n",
      "  C:\\ProgramData\\Anaconda3\\lib\\site-packages\\_pytest\\config\\__init__.py:751: PytestWarning: Module already imported so cannot be rewritten: pytest_openfiles\n",
      "    self._mark_plugins_for_rewrite(hook)\n",
      "\n",
      "C:\\ProgramData\\Anaconda3\\lib\\site-packages\\_pytest\\config\\__init__.py:751\n",
      "  C:\\ProgramData\\Anaconda3\\lib\\site-packages\\_pytest\\config\\__init__.py:751: PytestWarning: Module already imported so cannot be rewritten: pytest_doctestplus\n",
      "    self._mark_plugins_for_rewrite(hook)\n",
      "\n",
      "C:\\ProgramData\\Anaconda3\\lib\\site-packages\\_pytest\\config\\__init__.py:751\n",
      "  C:\\ProgramData\\Anaconda3\\lib\\site-packages\\_pytest\\config\\__init__.py:751: PytestWarning: Module already imported so cannot be rewritten: pytest_arraydiff\n",
      "    self._mark_plugins_for_rewrite(hook)\n",
      "\n",
      "-- Docs: https://docs.pytest.org/en/latest/warnings.html\n"
     ]
    }
   ],
   "source": [
    "ipytest.run('-qq')"
   ]
  },
  {
   "cell_type": "code",
   "execution_count": null,
   "metadata": {},
   "outputs": [],
   "source": []
  },
  {
   "cell_type": "code",
   "execution_count": 14,
   "metadata": {},
   "outputs": [],
   "source": [
    "link = \"http://selenium1py.pythonanywhere.com/\"\n",
    "\n",
    "\n",
    "@pytest.fixture(scope=\"class\")\n",
    "def browser():\n",
    "    print(\"\\nstart browser for test..\")\n",
    "    browser = webdriver.Chrome()\n",
    "    yield browser\n",
    "    print(\"\\nquit browser..\")\n",
    "    browser.quit()\n",
    "\n",
    "\n",
    "class TestMainPage1():\n",
    "\n",
    "    # вызываем фикстуру в тесте, передав ее как параметр\n",
    "    def test_guest_should_see_login_link(self, browser):\n",
    "        print(\"start test1\")\n",
    "        browser.get(link)\n",
    "        browser.find_element_by_css_selector(\"#login_link\")\n",
    "        print(\"finish test1\")\n",
    "\n",
    "    def test_guest_should_see_basket_link_on_the_main_page(self, browser):\n",
    "        print(\"start test2\")\n",
    "        browser.get(link)\n",
    "        browser.find_element_by_css_selector(\".basket-mini .btn-group > a\")\n",
    "        print(\"finish test2\")"
   ]
  },
  {
   "cell_type": "code",
   "execution_count": 21,
   "metadata": {},
   "outputs": [
    {
     "name": "stdout",
     "output_type": "stream",
     "text": [
      "..                                                                       [100%]\n",
      "============================== warnings summary ===============================\n",
      "C:\\ProgramData\\Anaconda3\\lib\\site-packages\\_pytest\\config\\__init__.py:751\n",
      "  C:\\ProgramData\\Anaconda3\\lib\\site-packages\\_pytest\\config\\__init__.py:751: PytestWarning: Module already imported so cannot be rewritten: pytest_remotedata\n",
      "    self._mark_plugins_for_rewrite(hook)\n",
      "\n",
      "C:\\ProgramData\\Anaconda3\\lib\\site-packages\\_pytest\\config\\__init__.py:751\n",
      "  C:\\ProgramData\\Anaconda3\\lib\\site-packages\\_pytest\\config\\__init__.py:751: PytestWarning: Module already imported so cannot be rewritten: pytest_openfiles\n",
      "    self._mark_plugins_for_rewrite(hook)\n",
      "\n",
      "C:\\ProgramData\\Anaconda3\\lib\\site-packages\\_pytest\\config\\__init__.py:751\n",
      "  C:\\ProgramData\\Anaconda3\\lib\\site-packages\\_pytest\\config\\__init__.py:751: PytestWarning: Module already imported so cannot be rewritten: pytest_doctestplus\n",
      "    self._mark_plugins_for_rewrite(hook)\n",
      "\n",
      "C:\\ProgramData\\Anaconda3\\lib\\site-packages\\_pytest\\config\\__init__.py:751\n",
      "  C:\\ProgramData\\Anaconda3\\lib\\site-packages\\_pytest\\config\\__init__.py:751: PytestWarning: Module already imported so cannot be rewritten: pytest_arraydiff\n",
      "    self._mark_plugins_for_rewrite(hook)\n",
      "\n",
      "-- Docs: https://docs.pytest.org/en/latest/warnings.html\n"
     ]
    }
   ],
   "source": [
    "ipytest.run('-qq')"
   ]
  },
  {
   "cell_type": "code",
   "execution_count": null,
   "metadata": {},
   "outputs": [],
   "source": []
  }
 ],
 "metadata": {
  "kernelspec": {
   "display_name": "Python 3",
   "language": "python",
   "name": "python3"
  },
  "language_info": {
   "codemirror_mode": {
    "name": "ipython",
    "version": 3
   },
   "file_extension": ".py",
   "mimetype": "text/x-python",
   "name": "python",
   "nbconvert_exporter": "python",
   "pygments_lexer": "ipython3",
   "version": "3.7.3"
  }
 },
 "nbformat": 4,
 "nbformat_minor": 2
}
