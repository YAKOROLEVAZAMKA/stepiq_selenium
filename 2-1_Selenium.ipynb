{
 "cells": [
  {
   "cell_type": "code",
   "execution_count": 3,
   "metadata": {},
   "outputs": [],
   "source": [
    "from selenium import webdriver\n",
    "import time"
   ]
  },
  {
   "cell_type": "code",
   "execution_count": 4,
   "metadata": {},
   "outputs": [],
   "source": [
    "import math"
   ]
  },
  {
   "cell_type": "markdown",
   "metadata": {},
   "source": [
    "### task 2.3"
   ]
  },
  {
   "cell_type": "code",
   "execution_count": 7,
   "metadata": {},
   "outputs": [],
   "source": [
    "def calc(x):\n",
    "    return str(math.log(abs(12*math.sin(int(x)))))\n",
    "\n",
    "try: \n",
    "    link = \"http://suninjuly.github.io/math.html\"\n",
    "    browser = webdriver.Chrome('C:/chromedriver/chromedriver.exe')\n",
    "    browser.get(link)\n",
    "\n",
    "    # Ваш код, который заполняет обязательные поля\n",
    "    x_element = browser.find_element_by_id('input_value')\n",
    "    x = x_element.text\n",
    "    y = calc(x)\n",
    "    \n",
    "    \n",
    "    answer = browser.find_element_by_id('answer')\n",
    "    answer.send_keys(y)\n",
    "    \n",
    "    chkbox = browser.find_element_by_id('robotCheckbox')\n",
    "    chkbox.click()\n",
    "    \n",
    "    \n",
    "    rbtn = browser.find_element_by_id('robotsRule')\n",
    "    rbtn.click()\n",
    "    \n",
    "    # Отправляем заполненную форму\n",
    "    button = browser.find_element_by_css_selector(\"button.btn.btn-default\")\n",
    "    button.click()\n",
    "\n",
    "    # Проверяем, что смогли зарегистрироваться\n",
    "    # ждем загрузки страницы\n",
    "    time.sleep(1)\n",
    "\n",
    "    \n",
    "finally:\n",
    "    # успеваем скопировать код за 30 секунд\n",
    "    time.sleep(15)\n",
    "    # закрываем браузер после всех манипуляций\n",
    "    browser.quit()"
   ]
  },
  {
   "cell_type": "code",
   "execution_count": 6,
   "metadata": {},
   "outputs": [
    {
     "data": {
      "text/plain": [
       "'512'"
      ]
     },
     "execution_count": 6,
     "metadata": {},
     "output_type": "execute_result"
    }
   ],
   "source": [
    "x"
   ]
  },
  {
   "cell_type": "code",
   "execution_count": null,
   "metadata": {},
   "outputs": [],
   "source": []
  },
  {
   "cell_type": "code",
   "execution_count": 9,
   "metadata": {},
   "outputs": [
    {
     "name": "stdout",
     "output_type": "stream",
     "text": [
      "value of people radio:  true\n",
      "value of robots_radio:  None\n",
      "value of button Submit:  None\n",
      "value of button Submit after 10sec:  true\n"
     ]
    }
   ],
   "source": [
    "from selenium import webdriver\n",
    "import time\n",
    "\n",
    "link = \"http://suninjuly.github.io/math.html\"\n",
    "\n",
    "try:\n",
    "    browser = webdriver.Chrome('C:/chromedriver/chromedriver.exe')\n",
    "    browser.get(link)\n",
    "\n",
    "#проверяем значение атрибута checked у people_radio\n",
    "    people_radio = browser.find_element_by_id(\"peopleRule\")\n",
    "    people_checked = people_radio.get_attribute(\"checked\")\n",
    "    print(\"value of people radio: \", people_checked)\n",
    "    assert people_checked is not None, \"People radio is not selected by default\"\n",
    "\n",
    "#проверяем значение атрибута checked у robots_radio\n",
    "    robots_radio = browser.find_element_by_id(\"robotsRule\")\n",
    "    robots_checked = robots_radio.get_attribute(\"checked\")\n",
    "    print(\"value of robots_radio: \", robots_checked)\n",
    "    assert robots_checked is None\n",
    "\n",
    "#проверяем значение атрибута disabled у кнопки Submit\n",
    "    button = browser.find_element_by_css_selector('.btn')\n",
    "    button_disabled = button.get_attribute(\"disabled\")\n",
    "    print(\"value of button Submit: \", button_disabled)\n",
    "    assert button_disabled is None\n",
    "\n",
    "#проверяем значение атрибута disabled у кнопки Submit после таймаута\n",
    "    time.sleep(10)\n",
    "    button_disabled = button.get_attribute(\"disabled\")\n",
    "    print(\"value of button Submit after 10sec: \", button_disabled)\n",
    "    assert button_disabled is not None\n",
    "\n",
    "finally:\n",
    "    # закрываем браузер после всех манипуляций\n",
    "    browser.quit()\n",
    "\n",
    "# не забываем оставить пустую строку в конце файла"
   ]
  },
  {
   "cell_type": "code",
   "execution_count": null,
   "metadata": {},
   "outputs": [],
   "source": []
  },
  {
   "cell_type": "markdown",
   "metadata": {},
   "source": [
    "### task 2.4"
   ]
  },
  {
   "cell_type": "code",
   "execution_count": 13,
   "metadata": {},
   "outputs": [],
   "source": [
    "def calc(x):\n",
    "    return str(math.log(abs(12*math.sin(int(x)))))\n",
    "\n",
    "link = \"http://suninjuly.github.io/get_attribute.html\"\n",
    "\n",
    "try:\n",
    "    browser = webdriver.Chrome('C:/chromedriver/chromedriver.exe')\n",
    "    browser.get(link)\n",
    "    \n",
    "    treasure = browser.find_element_by_id(\"treasure\")\n",
    "    y = treasure.get_attribute(\"valuex\")\n",
    "    \n",
    "    answer = browser.find_element_by_id('answer')\n",
    "    answer.send_keys(calc(y))\n",
    "    \n",
    "    chkbox = browser.find_element_by_id('robotCheckbox')\n",
    "    chkbox.click()\n",
    "    \n",
    "    rbtrule = browser.find_element_by_id('robotsRule')\n",
    "    rbtrule.click()\n",
    "    \n",
    "    \n",
    "    button = browser.find_element_by_css_selector(\"button.btn.btn-default\")\n",
    "    button.click()\n",
    "    \n",
    "    time.sleep(1)\n",
    "    \n",
    "finally:\n",
    "    # успеваем скопировать код за 30 секунд\n",
    "    time.sleep(15)\n",
    "    # закрываем браузер после всех манипуляций\n",
    "    browser.quit()"
   ]
  },
  {
   "cell_type": "code",
   "execution_count": 14,
   "metadata": {},
   "outputs": [
    {
     "data": {
      "text/plain": [
       "'748'"
      ]
     },
     "execution_count": 14,
     "metadata": {},
     "output_type": "execute_result"
    }
   ],
   "source": [
    "y"
   ]
  },
  {
   "cell_type": "code",
   "execution_count": null,
   "metadata": {},
   "outputs": [],
   "source": []
  },
  {
   "cell_type": "code",
   "execution_count": null,
   "metadata": {},
   "outputs": [],
   "source": []
  },
  {
   "cell_type": "code",
   "execution_count": null,
   "metadata": {},
   "outputs": [],
   "source": []
  },
  {
   "cell_type": "code",
   "execution_count": null,
   "metadata": {},
   "outputs": [],
   "source": []
  },
  {
   "cell_type": "code",
   "execution_count": null,
   "metadata": {},
   "outputs": [],
   "source": []
  }
 ],
 "metadata": {
  "kernelspec": {
   "display_name": "Python 3",
   "language": "python",
   "name": "python3"
  },
  "language_info": {
   "codemirror_mode": {
    "name": "ipython",
    "version": 3
   },
   "file_extension": ".py",
   "mimetype": "text/x-python",
   "name": "python",
   "nbconvert_exporter": "python",
   "pygments_lexer": "ipython3",
   "version": "3.7.3"
  }
 },
 "nbformat": 4,
 "nbformat_minor": 2
}
