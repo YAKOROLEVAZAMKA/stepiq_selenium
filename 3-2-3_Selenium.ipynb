{
 "cells": [
  {
   "cell_type": "code",
   "execution_count": 4,
   "metadata": {},
   "outputs": [
    {
     "ename": "AssertionError",
     "evalue": "Should be absolute value of a number",
     "output_type": "error",
     "traceback": [
      "\u001b[1;31m---------------------------------------------------------------------------\u001b[0m",
      "\u001b[1;31mAssertionError\u001b[0m                            Traceback (most recent call last)",
      "\u001b[1;32m<ipython-input-4-f8f84ae319be>\u001b[0m in \u001b[0;36m<module>\u001b[1;34m\u001b[0m\n\u001b[1;32m----> 1\u001b[1;33m \u001b[1;32massert\u001b[0m \u001b[0mabs\u001b[0m\u001b[1;33m(\u001b[0m\u001b[1;33m-\u001b[0m\u001b[1;36m42\u001b[0m\u001b[1;33m)\u001b[0m \u001b[1;33m==\u001b[0m \u001b[1;33m-\u001b[0m\u001b[1;36m42\u001b[0m\u001b[1;33m,\u001b[0m \u001b[1;34m'Should be absolute value of a number'\u001b[0m\u001b[1;33m\u001b[0m\u001b[1;33m\u001b[0m\u001b[0m\n\u001b[0m",
      "\u001b[1;31mAssertionError\u001b[0m: Should be absolute value of a number"
     ]
    }
   ],
   "source": [
    "assert abs(-42) == -42, 'Should be absolute value of a number'"
   ]
  },
  {
   "cell_type": "code",
   "execution_count": null,
   "metadata": {},
   "outputs": [],
   "source": []
  },
  {
   "cell_type": "code",
   "execution_count": 5,
   "metadata": {},
   "outputs": [
    {
     "name": "stdout",
     "output_type": "stream",
     "text": [
      "Let's count together: one, then goes two, and then three\n"
     ]
    }
   ],
   "source": [
    "str1 = \"one\"\n",
    "str2 = \"two\"\n",
    "str3 = \"three\"\n",
    "print(f\"Let's count together: {str1}, then goes {str2}, and then {str3}\")"
   ]
  },
  {
   "cell_type": "code",
   "execution_count": null,
   "metadata": {},
   "outputs": [],
   "source": []
  },
  {
   "cell_type": "code",
   "execution_count": 6,
   "metadata": {},
   "outputs": [
    {
     "name": "stdout",
     "output_type": "stream",
     "text": [
      "Substring found\n",
      "Substring found at index 3\n"
     ]
    }
   ],
   "source": [
    "s = 'My Name is Julia'\n",
    "\n",
    "if 'Name' in s:\n",
    "    print('Substring found')\n",
    "\n",
    "index = s.find('Name')\n",
    "if index != -1:\n",
    "    print(f'Substring found at index {index}')"
   ]
  },
  {
   "cell_type": "code",
   "execution_count": null,
   "metadata": {},
   "outputs": [],
   "source": []
  },
  {
   "cell_type": "code",
   "execution_count": null,
   "metadata": {},
   "outputs": [],
   "source": []
  },
  {
   "cell_type": "code",
   "execution_count": 7,
   "metadata": {},
   "outputs": [
    {
     "name": "stderr",
     "output_type": "stream",
     "text": [
      "E\n",
      "======================================================================\n",
      "ERROR: C:\\Users\\Ssmykov\\AppData\\Roaming\\jupyter\\runtime\\kernel-02ffacb0-3f66-4dae-8f38-cf105afe4a23 (unittest.loader._FailedTest)\n",
      "----------------------------------------------------------------------\n",
      "AttributeError: module '__main__' has no attribute 'C:\\Users\\Ssmykov\\AppData\\Roaming\\jupyter\\runtime\\kernel-02ffacb0-3f66-4dae-8f38-cf105afe4a23'\n",
      "\n",
      "----------------------------------------------------------------------\n",
      "Ran 1 test in 0.001s\n",
      "\n",
      "FAILED (errors=1)\n"
     ]
    },
    {
     "ename": "SystemExit",
     "evalue": "True",
     "output_type": "error",
     "traceback": [
      "An exception has occurred, use %tb to see the full traceback.\n",
      "\u001b[1;31mSystemExit\u001b[0m\u001b[1;31m:\u001b[0m True\n"
     ]
    },
    {
     "name": "stderr",
     "output_type": "stream",
     "text": [
      "C:\\ProgramData\\Anaconda3\\lib\\site-packages\\IPython\\core\\interactiveshell.py:3304: UserWarning: To exit: use 'exit', 'quit', or Ctrl-D.\n",
      "  warn(\"To exit: use 'exit', 'quit', or Ctrl-D.\", stacklevel=1)\n"
     ]
    }
   ],
   "source": [
    "import unittest\n",
    "\n",
    "class TestAbs(unittest.TestCase):\n",
    "    def test_abs1(self):\n",
    "        self.assertEqual(abs(-42), 42, \"Should be absolute value of a number\")\n",
    "        \n",
    "    def test_abs2(self):\n",
    "        self.assertEqual(abs(-42), -42, \"Should be absolute value of a number\")\n",
    "        \n",
    "if __name__ == \"__main__\":\n",
    "    unittest.main()"
   ]
  },
  {
   "cell_type": "code",
   "execution_count": null,
   "metadata": {},
   "outputs": [],
   "source": []
  },
  {
   "cell_type": "markdown",
   "metadata": {},
   "source": [
    "### task 3.2.2"
   ]
  },
  {
   "cell_type": "code",
   "execution_count": 1,
   "metadata": {},
   "outputs": [],
   "source": [
    "import unittest"
   ]
  },
  {
   "cell_type": "code",
   "execution_count": 6,
   "metadata": {},
   "outputs": [],
   "source": [
    "from selenium import webdriver"
   ]
  },
  {
   "cell_type": "code",
   "execution_count": 25,
   "metadata": {},
   "outputs": [],
   "source": [
    "import time"
   ]
  },
  {
   "cell_type": "code",
   "execution_count": 60,
   "metadata": {},
   "outputs": [],
   "source": [
    "class TestSunJuly(unittest.TestCase):\n",
    "    def testreg1(self):\n",
    " \n",
    "        link = \"http://suninjuly.github.io/registration1.html\"\n",
    "        browser = webdriver.Chrome('C:/chromedriver/chromedriver.exe')\n",
    "        browser.get(link)\n",
    "\n",
    "        # Ваш код, который заполняет обязательные поля\n",
    "        input1 = browser.find_element_by_tag_name('input')\n",
    "        input1.send_keys(\"Ivan\")\n",
    "        input2 = browser.find_element_by_css_selector('div.first_block div.form-group.second_class input')\n",
    "        input2.send_keys(\"Petrov\")\n",
    "        input3 = browser.find_element_by_css_selector('input.form-control.third')\n",
    "        input3.send_keys(\"MblJIo\")\n",
    "\n",
    "        # Отправляем заполненную форму\n",
    "        button = browser.find_element_by_css_selector(\"button.btn\")\n",
    "        button.click()\n",
    "\n",
    "        # Проверяем, что смогли зарегистрироваться\n",
    "        # ждем загрузки страницы\n",
    "        time.sleep(1)\n",
    "\n",
    "        # находим элемент, содержащий текст\n",
    "        welcome_text_elt = browser.find_element_by_tag_name(\"h1\")\n",
    "        # записываем в переменную welcome_text текст из элемента welcome_text_elt\n",
    "        welcome_text = welcome_text_elt.text\n",
    "\n",
    "        # с помощью assert проверяем, что ожидаемый текст совпадает с текстом на странице сайта\n",
    "        self.assertEqual(\"Congratulations! You have successfully registered!\", welcome_text, 'Should pass test1')\n",
    "\n",
    "\n",
    "        # ожидание чтобы визуально оценить результаты прохождения скрипта\n",
    "        #time.sleep(2)\n",
    "        # закрываем браузер после всех манипуляций\n",
    "        #browser.quit()\n",
    "                \n",
    "    def testreg2(self):\n",
    "    \n",
    "        link = \"http://suninjuly.github.io/registration2.html\"\n",
    "        browser = webdriver.Chrome('C:/chromedriver/chromedriver.exe')\n",
    "        browser.get(link)\n",
    "\n",
    "        # Ваш код, который заполняет обязательные поля\n",
    "        input1 = browser.find_element_by_tag_name('input')\n",
    "        input1.send_keys(\"Ivan\")\n",
    "        input2 = browser.find_element_by_css_selector('div.first_block div.form-group.second_class input')\n",
    "        input2.send_keys(\"Petrov\")\n",
    "        input3 = browser.find_element_by_css_selector('input.form-control.third')\n",
    "        input3.send_keys(\"MblJIo\")\n",
    "\n",
    "        # Отправляем заполненную форму\n",
    "        button = browser.find_element_by_css_selector(\"button.btn\")\n",
    "        button.click()\n",
    "\n",
    "        # Проверяем, что смогли зарегистрироваться\n",
    "        # ждем загрузки страницы\n",
    "        time.sleep(1)\n",
    "\n",
    "        # находим элемент, содержащий текст\n",
    "        welcome_text_elt = browser.find_element_by_tag_name(\"h1\")\n",
    "        # записываем в переменную welcome_text текст из элемента welcome_text_elt\n",
    "        welcome_text = welcome_text_elt.text\n",
    "\n",
    "        # с помощью assert проверяем, что ожидаемый текст совпадает с текстом на странице сайта\n",
    "        self.assertEqual(\"Congratulations! You have successfully registered!\", welcome_text, 'Should pass test2')\n",
    "\n",
    "    \n",
    "        # ожидание чтобы визуально оценить результаты прохождения скрипта\n",
    "        #time.sleep(2)\n",
    "        # закрываем браузер после всех манипуляций\n",
    "        #browser.quit()\n"
   ]
  },
  {
   "cell_type": "code",
   "execution_count": 29,
   "metadata": {},
   "outputs": [
    {
     "name": "stderr",
     "output_type": "stream",
     "text": [
      "testreg1 (__main__.TestSunJuly) ... ok\n",
      "testreg2 (__main__.TestSunJuly) ... ERROR\n",
      "\n",
      "======================================================================\n",
      "ERROR: testreg2 (__main__.TestSunJuly)\n",
      "----------------------------------------------------------------------\n",
      "Traceback (most recent call last):\n",
      "  File \"<ipython-input-26-8c38b230beaf>\", line 47, in testreg2\n",
      "    input2 = browser.find_element_by_css_selector('div.first_block div.form-group.second_class input')\n",
      "  File \"C:\\ProgramData\\Anaconda3\\lib\\site-packages\\selenium\\webdriver\\remote\\webdriver.py\", line 598, in find_element_by_css_selector\n",
      "    return self.find_element(by=By.CSS_SELECTOR, value=css_selector)\n",
      "  File \"C:\\ProgramData\\Anaconda3\\lib\\site-packages\\selenium\\webdriver\\remote\\webdriver.py\", line 978, in find_element\n",
      "    'value': value})['value']\n",
      "  File \"C:\\ProgramData\\Anaconda3\\lib\\site-packages\\selenium\\webdriver\\remote\\webdriver.py\", line 321, in execute\n",
      "    self.error_handler.check_response(response)\n",
      "  File \"C:\\ProgramData\\Anaconda3\\lib\\site-packages\\selenium\\webdriver\\remote\\errorhandler.py\", line 242, in check_response\n",
      "    raise exception_class(message, screen, stacktrace)\n",
      "selenium.common.exceptions.NoSuchElementException: Message: no such element: Unable to locate element: {\"method\":\"css selector\",\"selector\":\"div.first_block div.form-group.second_class input\"}\n",
      "  (Session info: chrome=80.0.3987.132)\n",
      "\n",
      "\n",
      "----------------------------------------------------------------------\n",
      "Ran 2 tests in 15.786s\n",
      "\n",
      "FAILED (errors=1)\n"
     ]
    }
   ],
   "source": [
    "unittest.main(argv=[''], verbosity=2, exit=False)\n",
    "\n",
    "browser.quit()\n"
   ]
  },
  {
   "cell_type": "code",
   "execution_count": 30,
   "metadata": {},
   "outputs": [],
   "source": [
    "import pytest"
   ]
  },
  {
   "cell_type": "code",
   "execution_count": 38,
   "metadata": {},
   "outputs": [],
   "source": [
    "import ipytest.magics\n",
    "import ipytest"
   ]
  },
  {
   "cell_type": "code",
   "execution_count": 39,
   "metadata": {},
   "outputs": [],
   "source": [
    "ipytest.config.rewrite_asserts = True"
   ]
  },
  {
   "cell_type": "code",
   "execution_count": 58,
   "metadata": {},
   "outputs": [],
   "source": [
    "__file__ = '3-2_Selenium.ipynb'"
   ]
  },
  {
   "cell_type": "code",
   "execution_count": 61,
   "metadata": {},
   "outputs": [
    {
     "name": "stdout",
     "output_type": "stream",
     "text": [
      ".F                                                                       [100%]\n",
      "================================== FAILURES ===================================\n",
      "____________________________ TestSunJuly.testreg2 _____________________________\n",
      "\n",
      "self = <__main__.TestSunJuly testMethod=testreg2>\n",
      "\n",
      "    def testreg2(self):\n",
      "    \n",
      "        link = \"http://suninjuly.github.io/registration2.html\"\n",
      "        browser = webdriver.Chrome('C:/chromedriver/chromedriver.exe')\n",
      "        browser.get(link)\n",
      "    \n",
      "        # Ваш код, который заполняет обязательные поля\n",
      "        input1 = browser.find_element_by_tag_name('input')\n",
      "        input1.send_keys(\"Ivan\")\n",
      ">       input2 = browser.find_element_by_css_selector('div.first_block div.form-group.second_class input')\n",
      "\n",
      "<ipython-input-60-34cca066fea0>:47: \n",
      "_ _ _ _ _ _ _ _ _ _ _ _ _ _ _ _ _ _ _ _ _ _ _ _ _ _ _ _ _ _ _ _ _ _ _ _ _ _ _ _\n",
      "C:\\ProgramData\\Anaconda3\\lib\\site-packages\\selenium\\webdriver\\remote\\webdriver.py:598: in find_element_by_css_selector\n",
      "    return self.find_element(by=By.CSS_SELECTOR, value=css_selector)\n",
      "C:\\ProgramData\\Anaconda3\\lib\\site-packages\\selenium\\webdriver\\remote\\webdriver.py:978: in find_element\n",
      "    'value': value})['value']\n",
      "C:\\ProgramData\\Anaconda3\\lib\\site-packages\\selenium\\webdriver\\remote\\webdriver.py:321: in execute\n",
      "    self.error_handler.check_response(response)\n",
      "_ _ _ _ _ _ _ _ _ _ _ _ _ _ _ _ _ _ _ _ _ _ _ _ _ _ _ _ _ _ _ _ _ _ _ _ _ _ _ _\n",
      "\n",
      "self = <selenium.webdriver.remote.errorhandler.ErrorHandler object at 0x00000209C4DE2DA0>\n",
      "response = {'status': 404, 'value': '{\"value\":{\"error\":\"no such element\",\"message\":\"no such element: Unable to locate element: {\\...\\n\\\\tRtlGetAppContainerNamedObjectPath [0x77D97B74+228]\\\\n\\\\tRtlGetAppContainerNamedObjectPath [0x77D97B44+180]\\\\n\"}}'}\n",
      "\n",
      "    def check_response(self, response):\n",
      "        \"\"\"\n",
      "        Checks that a JSON response from the WebDriver does not have an error.\n",
      "    \n",
      "        :Args:\n",
      "         - response - The JSON response from the WebDriver server as a dictionary\n",
      "           object.\n",
      "    \n",
      "        :Raises: If the response contains an error message.\n",
      "        \"\"\"\n",
      "        status = response.get('status', None)\n",
      "        if status is None or status == ErrorCode.SUCCESS:\n",
      "            return\n",
      "        value = None\n",
      "        message = response.get(\"message\", \"\")\n",
      "        screen = response.get(\"screen\", \"\")\n",
      "        stacktrace = None\n",
      "        if isinstance(status, int):\n",
      "            value_json = response.get('value', None)\n",
      "            if value_json and isinstance(value_json, basestring):\n",
      "                import json\n",
      "                try:\n",
      "                    value = json.loads(value_json)\n",
      "                    if len(value.keys()) == 1:\n",
      "                        value = value['value']\n",
      "                    status = value.get('error', None)\n",
      "                    if status is None:\n",
      "                        status = value[\"status\"]\n",
      "                        message = value[\"value\"]\n",
      "                        if not isinstance(message, basestring):\n",
      "                            value = message\n",
      "                            message = message.get('message')\n",
      "                    else:\n",
      "                        message = value.get('message', None)\n",
      "                except ValueError:\n",
      "                    pass\n",
      "    \n",
      "        exception_class = ErrorInResponseException\n",
      "        if status in ErrorCode.NO_SUCH_ELEMENT:\n",
      "            exception_class = NoSuchElementException\n",
      "        elif status in ErrorCode.NO_SUCH_FRAME:\n",
      "            exception_class = NoSuchFrameException\n",
      "        elif status in ErrorCode.NO_SUCH_WINDOW:\n",
      "            exception_class = NoSuchWindowException\n",
      "        elif status in ErrorCode.STALE_ELEMENT_REFERENCE:\n",
      "            exception_class = StaleElementReferenceException\n",
      "        elif status in ErrorCode.ELEMENT_NOT_VISIBLE:\n",
      "            exception_class = ElementNotVisibleException\n",
      "        elif status in ErrorCode.INVALID_ELEMENT_STATE:\n",
      "            exception_class = InvalidElementStateException\n",
      "        elif status in ErrorCode.INVALID_SELECTOR \\\n",
      "                or status in ErrorCode.INVALID_XPATH_SELECTOR \\\n",
      "                or status in ErrorCode.INVALID_XPATH_SELECTOR_RETURN_TYPER:\n",
      "            exception_class = InvalidSelectorException\n",
      "        elif status in ErrorCode.ELEMENT_IS_NOT_SELECTABLE:\n",
      "            exception_class = ElementNotSelectableException\n",
      "        elif status in ErrorCode.ELEMENT_NOT_INTERACTABLE:\n",
      "            exception_class = ElementNotInteractableException\n",
      "        elif status in ErrorCode.INVALID_COOKIE_DOMAIN:\n",
      "            exception_class = InvalidCookieDomainException\n",
      "        elif status in ErrorCode.UNABLE_TO_SET_COOKIE:\n",
      "            exception_class = UnableToSetCookieException\n",
      "        elif status in ErrorCode.TIMEOUT:\n",
      "            exception_class = TimeoutException\n",
      "        elif status in ErrorCode.SCRIPT_TIMEOUT:\n",
      "            exception_class = TimeoutException\n",
      "        elif status in ErrorCode.UNKNOWN_ERROR:\n",
      "            exception_class = WebDriverException\n",
      "        elif status in ErrorCode.UNEXPECTED_ALERT_OPEN:\n",
      "            exception_class = UnexpectedAlertPresentException\n",
      "        elif status in ErrorCode.NO_ALERT_OPEN:\n",
      "            exception_class = NoAlertPresentException\n",
      "        elif status in ErrorCode.IME_NOT_AVAILABLE:\n",
      "            exception_class = ImeNotAvailableException\n",
      "        elif status in ErrorCode.IME_ENGINE_ACTIVATION_FAILED:\n",
      "            exception_class = ImeActivationFailedException\n",
      "        elif status in ErrorCode.MOVE_TARGET_OUT_OF_BOUNDS:\n",
      "            exception_class = MoveTargetOutOfBoundsException\n",
      "        elif status in ErrorCode.JAVASCRIPT_ERROR:\n",
      "            exception_class = JavascriptException\n",
      "        elif status in ErrorCode.SESSION_NOT_CREATED:\n",
      "            exception_class = SessionNotCreatedException\n",
      "        elif status in ErrorCode.INVALID_ARGUMENT:\n",
      "            exception_class = InvalidArgumentException\n",
      "        elif status in ErrorCode.NO_SUCH_COOKIE:\n",
      "            exception_class = NoSuchCookieException\n",
      "        elif status in ErrorCode.UNABLE_TO_CAPTURE_SCREEN:\n",
      "            exception_class = ScreenshotException\n",
      "        elif status in ErrorCode.ELEMENT_CLICK_INTERCEPTED:\n",
      "            exception_class = ElementClickInterceptedException\n",
      "        elif status in ErrorCode.INSECURE_CERTIFICATE:\n",
      "            exception_class = InsecureCertificateException\n",
      "        elif status in ErrorCode.INVALID_COORDINATES:\n",
      "            exception_class = InvalidCoordinatesException\n",
      "        elif status in ErrorCode.INVALID_SESSION_ID:\n",
      "            exception_class = InvalidSessionIdException\n",
      "        elif status in ErrorCode.UNKNOWN_METHOD:\n",
      "            exception_class = UnknownMethodException\n",
      "        else:\n",
      "            exception_class = WebDriverException\n",
      "        if value == '' or value is None:\n",
      "            value = response['value']\n",
      "        if isinstance(value, basestring):\n",
      "            if exception_class == ErrorInResponseException:\n",
      "                raise exception_class(response, value)\n",
      "            raise exception_class(value)\n",
      "        if message == \"\" and 'message' in value:\n",
      "            message = value['message']\n",
      "    \n",
      "        screen = None\n",
      "        if 'screen' in value:\n",
      "            screen = value['screen']\n",
      "    \n",
      "        stacktrace = None\n",
      "        if 'stackTrace' in value and value['stackTrace']:\n",
      "            stacktrace = []\n",
      "            try:\n",
      "                for frame in value['stackTrace']:\n",
      "                    line = self._value_or_default(frame, 'lineNumber', '')\n",
      "                    file = self._value_or_default(frame, 'fileName', '<anonymous>')\n",
      "                    if line:\n",
      "                        file = \"%s:%s\" % (file, line)\n",
      "                    meth = self._value_or_default(frame, 'methodName', '<anonymous>')\n",
      "                    if 'className' in frame:\n",
      "                        meth = \"%s.%s\" % (frame['className'], meth)\n",
      "                    msg = \"    at %s (%s)\"\n",
      "                    msg = msg % (meth, file)\n",
      "                    stacktrace.append(msg)\n",
      "            except TypeError:\n",
      "                pass\n",
      "        if exception_class == ErrorInResponseException:\n",
      "            raise exception_class(response, message)\n",
      "        elif exception_class == UnexpectedAlertPresentException:\n",
      "            alert_text = None\n",
      "            if 'data' in value:\n",
      "                alert_text = value['data'].get('text')\n",
      "            elif 'alert' in value:\n",
      "                alert_text = value['alert'].get('text')\n",
      "            raise exception_class(message, screen, stacktrace, alert_text)\n",
      ">       raise exception_class(message, screen, stacktrace)\n",
      "E       selenium.common.exceptions.NoSuchElementException: Message: no such element: Unable to locate element: {\"method\":\"css selector\",\"selector\":\"div.first_block div.form-group.second_class input\"}\n",
      "E         (Session info: chrome=80.0.3987.132)\n",
      "\n",
      "C:\\ProgramData\\Anaconda3\\lib\\site-packages\\selenium\\webdriver\\remote\\errorhandler.py:242: NoSuchElementException\n",
      "============================== warnings summary ===============================\n",
      "C:\\ProgramData\\Anaconda3\\lib\\site-packages\\_pytest\\config\\__init__.py:751\n",
      "  C:\\ProgramData\\Anaconda3\\lib\\site-packages\\_pytest\\config\\__init__.py:751: PytestWarning: Module already imported so cannot be rewritten: pytest_remotedata\n",
      "    self._mark_plugins_for_rewrite(hook)\n",
      "\n",
      "C:\\ProgramData\\Anaconda3\\lib\\site-packages\\_pytest\\config\\__init__.py:751\n",
      "  C:\\ProgramData\\Anaconda3\\lib\\site-packages\\_pytest\\config\\__init__.py:751: PytestWarning: Module already imported so cannot be rewritten: pytest_openfiles\n",
      "    self._mark_plugins_for_rewrite(hook)\n",
      "\n",
      "C:\\ProgramData\\Anaconda3\\lib\\site-packages\\_pytest\\config\\__init__.py:751\n",
      "  C:\\ProgramData\\Anaconda3\\lib\\site-packages\\_pytest\\config\\__init__.py:751: PytestWarning: Module already imported so cannot be rewritten: pytest_doctestplus\n",
      "    self._mark_plugins_for_rewrite(hook)\n",
      "\n",
      "C:\\ProgramData\\Anaconda3\\lib\\site-packages\\_pytest\\config\\__init__.py:751\n",
      "  C:\\ProgramData\\Anaconda3\\lib\\site-packages\\_pytest\\config\\__init__.py:751: PytestWarning: Module already imported so cannot be rewritten: pytest_arraydiff\n",
      "    self._mark_plugins_for_rewrite(hook)\n",
      "\n",
      "-- Docs: https://docs.pytest.org/en/latest/warnings.html\n"
     ]
    }
   ],
   "source": [
    "ipytest.run('-qq')"
   ]
  },
  {
   "cell_type": "code",
   "execution_count": 49,
   "metadata": {},
   "outputs": [],
   "source": [
    "browser.quit()"
   ]
  },
  {
   "cell_type": "code",
   "execution_count": null,
   "metadata": {},
   "outputs": [],
   "source": []
  },
  {
   "cell_type": "code",
   "execution_count": 62,
   "metadata": {},
   "outputs": [
    {
     "name": "stdout",
     "output_type": "stream",
     "text": [
      "Note: you may need to restart the kernel to use updated packages.\n"
     ]
    }
   ],
   "source": [
    "pip freeze > requirements.txt"
   ]
  },
  {
   "cell_type": "markdown",
   "metadata": {},
   "source": [
    "# pytest -v --tb=line \"test 3.3.2\""
   ]
  },
  {
   "cell_type": "code",
   "execution_count": null,
   "metadata": {},
   "outputs": [],
   "source": []
  },
  {
   "cell_type": "code",
   "execution_count": null,
   "metadata": {},
   "outputs": [],
   "source": []
  },
  {
   "cell_type": "code",
   "execution_count": null,
   "metadata": {},
   "outputs": [],
   "source": []
  },
  {
   "cell_type": "code",
   "execution_count": null,
   "metadata": {},
   "outputs": [],
   "source": []
  },
  {
   "cell_type": "code",
   "execution_count": null,
   "metadata": {},
   "outputs": [],
   "source": []
  }
 ],
 "metadata": {
  "kernelspec": {
   "display_name": "Python 3",
   "language": "python",
   "name": "python3"
  },
  "language_info": {
   "codemirror_mode": {
    "name": "ipython",
    "version": 3
   },
   "file_extension": ".py",
   "mimetype": "text/x-python",
   "name": "python",
   "nbconvert_exporter": "python",
   "pygments_lexer": "ipython3",
   "version": "3.7.3"
  }
 },
 "nbformat": 4,
 "nbformat_minor": 4
}
